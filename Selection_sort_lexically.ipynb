{
  "nbformat": 4,
  "nbformat_minor": 0,
  "metadata": {
    "colab": {
      "name": "Selection_sort_lexically.ipynb",
      "provenance": [],
      "collapsed_sections": [],
      "authorship_tag": "ABX9TyPe0TGi/mKKJGTmdp3tJeAi",
      "include_colab_link": true
    },
    "kernelspec": {
      "name": "python3",
      "display_name": "Python 3"
    }
  },
  "cells": [
    {
      "cell_type": "markdown",
      "metadata": {
        "id": "view-in-github",
        "colab_type": "text"
      },
      "source": [
        "<a href=\"https://colab.research.google.com/github/ranjankaul/DS_ALGO/blob/master/Selection_sort_lexically.ipynb\" target=\"_parent\"><img src=\"https://colab.research.google.com/assets/colab-badge.svg\" alt=\"Open In Colab\"/></a>"
      ]
    },
    {
      "cell_type": "code",
      "metadata": {
        "id": "bwSBxlbTleSn",
        "colab_type": "code",
        "outputId": "6b88fa9f-e8f2-40ee-dd19-5aeeaba10dee",
        "colab": {
          "base_uri": "https://localhost:8080/",
          "height": 68
        }
      },
      "source": [
        "def selection_sort(string): \n",
        "# Split string \n",
        "    words = string.split() \n",
        "    print(\"original array \",words)\n",
        "\n",
        "# Traverse list \n",
        "    for i in range(len(words)): \n",
        "# Minimum element   \n",
        "      name_min = i \n",
        "      for j in range(i+1, len(words)): \n",
        "          if words[name_min] > words[j]: \n",
        "              name_min = j \n",
        "# Swap elements        \n",
        "      words[i], words[name_min] = words[name_min], words[i]\n",
        "    print (\"Lexically Sorted Array\" ,words) \n",
        "    print (\"Lexically Reverse Sorted Array\" ,words[::-1]) \n",
        "# Main code  \n",
        "if __name__ == '__main__': \n",
        "  string = \"rahul ranjan abhishek arindam pawan ambesh vivek\" \n",
        "  selection_sort(string) "
      ],
      "execution_count": 0,
      "outputs": [
        {
          "output_type": "stream",
          "text": [
            "original array  ['rahul', 'ranjan', 'abhishek', 'arindam', 'pawan', 'ambesh', 'vivek']\n",
            "Lexically Sorted Array ['abhishek', 'ambesh', 'arindam', 'pawan', 'rahul', 'ranjan', 'vivek']\n",
            "Lexically Reverse Sorted Array ['vivek', 'ranjan', 'rahul', 'pawan', 'arindam', 'ambesh', 'abhishek']\n"
          ],
          "name": "stdout"
        }
      ]
    },
    {
      "cell_type": "code",
      "metadata": {
        "id": "-KQtnZBqsRx_",
        "colab_type": "code",
        "colab": {}
      },
      "source": [
        ""
      ],
      "execution_count": 0,
      "outputs": []
    }
  ]
}